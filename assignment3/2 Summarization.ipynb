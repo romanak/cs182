{
 "cells": [
  {
   "cell_type": "markdown",
   "metadata": {},
   "source": [
    "# Introduction"
   ]
  },
  {
   "cell_type": "markdown",
   "metadata": {},
   "source": [
    "<center><h3>**Welcome to the Summarization Notebook.**</h3></center>\n",
    "\n",
    "In this assignment, you are going to train a neural network to summarize news articles.\n",
    "Your neural network is going to learn from example, as we provide you with (article, summary) pairs.\n",
    "We provide you with a **toy dataset** made of only articles about police related news.\n",
    "Usual datasets can be 20x larger in size, but we have reduced it for computational purposes.\n",
    "\n",
    "You will do this using a Transformer network, from the __[Attention is all you need](http://papers.nips.cc/paper/7181-attention-is-all-you-need.pdf)__ paper.\n",
    "In this assignment you will:\n",
    "- Learn to process text into sub-word tokens, to avoid fixed vocabulary sizes, and UNK tokens.\n",
    "- Implement the key conceptual blocks of a Transformer.\n",
    "- Use a Transformer to read a news article, and produce a summary.\n",
    "- Perform operations on learned word-vectors to examine what the model has learned.\n",
    "\n",
    "    \n",
    "** Before you start **\n",
    "\n",
    "You should read the Attention is all you need paper.\n",
    "We are providing you with skeleton code for the Transformer, but there will have to implement 5 conceptual blocks of the transformer yourself:\n",
    "-  AttentionQKV: the Query, Key, Value attention mechanism at the center of the Transformer\n",
    "- MultiHeadAttention: the multiple heads that enable each input to attend at many places at once.\n",
    "- PositionEmbedding: the sinusoid-based position embedding of the Transformer.\n",
    "- Encoder & Decoder: The encoder (that reads inputs, such as news articles), the decoder (that produces the output summary, one token at a time)\n",
    "- Full Transformer: piecing it all together."
   ]
  },
  {
   "cell_type": "markdown",
   "metadata": {},
   "source": [
    "You should get the dataset from Google Drive, as instructed in the README of the project.\n",
    "\n",
    "All dataset files should be placed in the `dataset/` folder of this assignment.\n",
    "\n",
    "If you are using Google Colab, follow the instructions to mount your Google Drive onto the remote machine."
   ]
  },
  {
   "cell_type": "markdown",
   "metadata": {},
   "source": [
    "# Library imports"
   ]
  },
  {
   "cell_type": "code",
   "execution_count": 1,
   "metadata": {},
   "outputs": [
    {
     "name": "stdout",
     "output_type": "stream",
     "text": [
      "WARNING:tensorflow:From c:\\users\\han-chung lee\\.virtualenvs\\assignment3-xzjguwob\\lib\\site-packages\\tensorflow_core\\python\\compat\\v2_compat.py:65: disable_resource_variables (from tensorflow.python.ops.variable_scope) is deprecated and will be removed in a future version.\n",
      "Instructions for updating:\n",
      "non-resource variables are not supported in the long term\n"
     ]
    }
   ],
   "source": [
    "from transformer import Transformer\n",
    "import sentencepiece as spm\n",
    "import tensorflow.compat.v1 as tf\n",
    "tf.disable_v2_behavior()\n",
    "import numpy as np\n",
    "import json\n",
    "import capita\n",
    "from tqdm import tqdm, tnrange\n",
    "\n",
    "%load_ext autoreload\n",
    "%autoreload 2\n",
    "\n",
    "root_folder = \"\""
   ]
  },
  {
   "cell_type": "code",
   "execution_count": 2,
   "metadata": {},
   "outputs": [],
   "source": [
    "# Load the word piece model that will be used to tokenize the texts into\n",
    "# word pieces with a vocabulary size of 10000\n",
    "\n",
    "sp = spm.SentencePieceProcessor()\n",
    "sp.Load(root_folder+\"dataset/wp_vocab10000.model\")\n",
    "\n",
    "# added  encoding=\"utf8\" to make windows happy\n",
    "vocab = [line.split('\\t')[0] for line in open(root_folder+\"dataset/wp_vocab10000.vocab\", \"r\",  encoding=\"utf8\")]\n",
    "pad_index = vocab.index('#')\n",
    "\n",
    "def pad_sequence(numerized, pad_index, to_length):\n",
    "    pad = numerized[:to_length]\n",
    "    padded = pad + [pad_index] * (to_length - len(pad))\n",
    "    mask = [w != pad_index for w in padded]\n",
    "    return padded, mask"
   ]
  },
  {
   "cell_type": "markdown",
   "metadata": {},
   "source": [
    "# Building blocks of a Transformer\n"
   ]
  },
  {
   "cell_type": "markdown",
   "metadata": {},
   "source": [
    "**TODO**:\n",
    "\n",
    "Implement the 5 blocks of the Transformer. In order to finish this section, you should get very small error <1e-7 on each of the 5 checks in this section.\n",
    "\n",
    "\n",
    "The Transformer is split into 3 files: transformer_attention.py, transformer_layers.py and transformer.py\n",
    "\n",
    "Each section below gives you directions and a way to verify your code works properly.\n",
    "\n",
    "You do not need to modify the rest of the code provided, but should read it to understand overall architecture.\n",
    "\n",
    "Our Transformer is built as a Keras model, a standard that is good for you to get accustomed to.\n",
    "\n"
   ]
  },
  {
   "cell_type": "markdown",
   "metadata": {},
   "source": [
    "## (1) Implementing the Query-Key-Value Attention (AttentionQKV)"
   ]
  },
  {
   "cell_type": "markdown",
   "metadata": {},
   "source": [
    "This part is located in AttentionQKV in transformer_attention.py. You must implement the call function of the class.\n",
    "You will need to implement the mathematical procedure of AttentionQKV that is described in the [Attention is all you need paper](https://arxiv.org/pdf/1706.03762.pdf)."
   ]
  },
  {
   "cell_type": "code",
   "execution_count": 3,
   "metadata": {},
   "outputs": [
    {
     "name": "stdout",
     "output_type": "stream",
     "text": [
      "Total error on the output: 0.0 (should be 0.0 or close to 0.0)\n",
      "Total error on the weights: 0.0 (should be 0.0 or close to 0.0)\n"
     ]
    }
   ],
   "source": [
    "from transformer_attention import AttentionQKV\n",
    "\n",
    "batch_size = 2;\n",
    "n_queries = 3;\n",
    "n_keyval = 5;\n",
    "depth_k = 2;\n",
    "depth_v = 2\n",
    "\n",
    "with open(root_folder+\"transformer_checks/attention_qkv_io.json\", \"r\") as f:\n",
    "    io = json.load(f)\n",
    "    queries = np.array(io['queries'])\n",
    "    keys = np.array(io['keys'])\n",
    "    values = np.array(io['values'])\n",
    "    expected_output  = np.array(io['output'])\n",
    "    expected_weights = np.array(io['weights'])\n",
    "\n",
    "attn_qkv = AttentionQKV()\n",
    "queries_h = tf.placeholder(tf.float32,shape=(None, n_queries, depth_k), name=\"queries\")\n",
    "keys_h = tf.placeholder(tf.float32,shape=(None, n_keyval, depth_k), name=\"keys\")\n",
    "values_h = tf.placeholder(tf.float32,shape=(None, n_keyval, depth_v), name=\"values\")\n",
    "\n",
    "attn_output, attn_weights = attn_qkv(queries_h, keys_h, values_h)\n",
    "\n",
    "with tf.Session() as sess:\n",
    "    output, weights = sess.run([attn_output, attn_weights], feed_dict={queries_h: queries, keys_h: keys, values_h: values})\n",
    "\n",
    "print(\"Total error on the output:\",np.sum(np.abs(expected_output-output)), \"(should be 0.0 or close to 0.0)\")\n",
    "print(\"Total error on the weights:\",np.sum(np.abs(expected_weights-weights)), \"(should be 0.0 or close to 0.0)\")"
   ]
  },
  {
   "cell_type": "markdown",
   "metadata": {},
   "source": [
    "## (2) Implementing Multi-head attention"
   ]
  },
  {
   "cell_type": "markdown",
   "metadata": {},
   "source": [
    "This part is located in the class MultiHeadProjection in transformer_attention.py.\n",
    "You must implement the call, \\_split_heads, and \\_combine_heads functions.\n",
    "\n",
    "**Procedure**\n",
    "\n",
    "The objective is to leverage the AttentionQKV class you already wrote.\n",
    "\n",
    "Your input are the queries, keys, values as 3-d tensors (batch_size, sequence_length, feature_size).\n",
    "\n",
    "Split them into 4-d tensors (batch_size, n_heads, sequence_length, new_feature_size). Where:\n",
    "$$feature\\_size = n\\_heads * new_feature\\_size.$$\n",
    "\n",
    "You can then feed the split qkv to your implemented AttentionQKV, which will treat each head as an independent attention function.\n",
    "\n",
    "Then the output must be combined back into a 3-d tensor.\n",
    "You can test the validity of your implementation in the cell below."
   ]
  },
  {
   "cell_type": "code",
   "execution_count": 4,
   "metadata": {},
   "outputs": [
    {
     "name": "stdout",
     "output_type": "stream",
     "text": [
      "Total error on the output: 0.0 (should be 0.0 or close to 0.0)\n"
     ]
    }
   ],
   "source": [
    "from transformer_attention import MultiHeadProjection\n",
    "\n",
    "batch_size = 2;\n",
    "n_queries = 3;\n",
    "n_heads = 4\n",
    "n_keyval = 5;\n",
    "depth_k = 8;\n",
    "depth_v = 8;\n",
    "\n",
    "with open(root_folder+\"transformer_checks/multihead_io.json\", \"r\") as f:\n",
    "    io = json.load(f)\n",
    "    queries = np.array(io['queries'])\n",
    "    keys = np.array(io['keys'])\n",
    "    values = np.array(io['values'])\n",
    "    expected_output  = np.array(io['output'])\n",
    "\n",
    "attn_qkv = MultiHeadProjection(n_heads)\n",
    "queries_h = tf.placeholder(tf.float32,shape=(None, n_queries, depth_k), name=\"queries\")\n",
    "keys_h = tf.placeholder(tf.float32,shape=(None, n_keyval, depth_k), name=\"keys\")\n",
    "values_h = tf.placeholder(tf.float32,shape=(None, n_keyval, depth_v), name=\"values\")\n",
    "\n",
    "multihead_output = attn_qkv((queries_h, keys_h, values_h))\n",
    "\n",
    "with tf.Session() as sess:\n",
    "    output = sess.run(multihead_output, feed_dict={queries_h: queries, keys_h: keys, values_h: values})\n",
    "\n",
    "print(\"Total error on the output:\",np.sum(np.abs(expected_output-output)), \"(should be 0.0 or close to 0.0)\")"
   ]
  },
  {
   "cell_type": "markdown",
   "metadata": {},
   "source": [
    "## (3) Position Embedding "
   ]
  },
  {
   "cell_type": "markdown",
   "metadata": {},
   "source": [
    "You must implement the PositionEmbedding class in transformer.py.\n",
    "\n",
    "\n",
    "The cell below helps you verify the validity of your implementation\n"
   ]
  },
  {
   "cell_type": "code",
   "execution_count": 5,
   "metadata": {},
   "outputs": [
    {
     "name": "stdout",
     "output_type": "stream",
     "text": [
      "Total error on the output: 0.0 (should be 0.0 or close to 0.0)\n"
     ]
    }
   ],
   "source": [
    "from transformer import PositionEmbedding\n",
    "\n",
    "batch_size = 2;\n",
    "sequence_length = 3;\n",
    "dim = 4;\n",
    "\n",
    "with open(root_folder+\"transformer_checks/position_embedding_io.json\", \"r\") as f:\n",
    "    io = json.load(f)\n",
    "    inputs = np.array(io['inputs'])\n",
    "    expected_output  = np.array(io['output'])\n",
    "\n",
    "inputs_h = tf.placeholder(tf.float32,shape=(None, sequence_length, dim), name=\"inputs\")\n",
    "pos_emb = PositionEmbedding()\n",
    "output_t = pos_emb(inputs_h)\n",
    "\n",
    "with tf.Session() as sess:\n",
    "    output = sess.run(output_t, feed_dict={inputs_h: inputs})\n",
    "\n",
    "print(\"Total error on the output:\",np.sum(np.abs(expected_output-output)), \"(should be 0.0 or close to 0.0)\")"
   ]
  },
  {
   "cell_type": "markdown",
   "metadata": {},
   "source": [
    "## (4) Transformer Encoder / Transformer Decoder"
   ]
  },
  {
   "cell_type": "markdown",
   "metadata": {},
   "source": [
    "You now have all the blocks needed to implement the Transformer.\n",
    "For this part, you have to fill in 2 classes in the transformer.py file: TransformerEncoderBlock, TransformerDecoderBlock.\n",
    "\n",
    "The code below will verify the accuracy of each block"
   ]
  },
  {
   "cell_type": "code",
   "execution_count": 6,
   "metadata": {},
   "outputs": [
    {
     "name": "stdout",
     "output_type": "stream",
     "text": [
      "WARNING:tensorflow:From B:\\user\\cs182\\assignment3\\transformer_layers.py:38: Layer.add_variable (from tensorflow.python.keras.engine.base_layer) is deprecated and will be removed in a future version.\n",
      "Instructions for updating:\n",
      "Please use `layer.add_weight` method instead.\n",
      "WARNING:tensorflow:From c:\\users\\han-chung lee\\.virtualenvs\\assignment3-xzjguwob\\lib\\site-packages\\tensorflow_core\\python\\ops\\resource_variable_ops.py:1630: calling BaseResourceVariable.__init__ (from tensorflow.python.ops.resource_variable_ops) with constraint is deprecated and will be removed in a future version.\n",
      "Instructions for updating:\n",
      "If using Keras pass *_constraint arguments to layers.\n",
      "INFO:tensorflow:Restoring parameters from transformer_checks/transformer_encoder_block\n",
      "Total error on the output: 0.0 (should be 0.0 or close to 0.0)\n"
     ]
    }
   ],
   "source": [
    "from transformer import TransformerEncoderBlock\n",
    "\n",
    "batch_size = 2\n",
    "sequence_length = 5\n",
    "hidden_size = 6\n",
    "filter_size = 12\n",
    "n_heads = 2\n",
    "\n",
    "with open(root_folder+\"transformer_checks/transformer_encoder_block_io.json\", \"r\") as f:\n",
    "    io = json.load(f)\n",
    "    inputs = np.array(io['inputs'])\n",
    "    expected_output = np.array(io['output'])\n",
    "\n",
    "tf.reset_default_graph()\n",
    "inputs_h = tf.placeholder(tf.float32,shape=(None, sequence_length, hidden_size), name=\"inputs\")\n",
    "enc_block = TransformerEncoderBlock(n_heads=n_heads, filter_size=filter_size, hidden_size=hidden_size)\n",
    "output_t = enc_block(inputs_h)\n",
    "saver = tf.train.Saver()\n",
    "\n",
    "with tf.Session() as sess:\n",
    "    saver.restore(sess, \"transformer_checks/transformer_encoder_block\")\n",
    "    output = sess.run(output_t, feed_dict={inputs_h: inputs})\n",
    "    \n",
    "print(\"Total error on the output:\",np.sum(np.abs(expected_output-output)), \"(should be 0.0 or close to 0.0)\")"
   ]
  },
  {
   "cell_type": "code",
   "execution_count": 7,
   "metadata": {},
   "outputs": [
    {
     "name": "stdout",
     "output_type": "stream",
     "text": [
      "INFO:tensorflow:Restoring parameters from transformer_checks/transformer_decoder_block\n",
      "Total error on the output: 0.0 (should be 0.0 or close to 0.0)\n"
     ]
    }
   ],
   "source": [
    "from transformer import TransformerDecoderBlock\n",
    "\n",
    "batch_size = 2\n",
    "encoder_length = 5\n",
    "decoder_length = 3\n",
    "hidden_size = 6\n",
    "filter_size = 12\n",
    "n_heads = 2\n",
    "\n",
    "with open(\"transformer_checks/transformer_decoder_block_io.json\", \"r\") as f:\n",
    "    io = json.load(f)\n",
    "#     print(io)\n",
    "    decoder_inputs = np.array(io['decoder_inputs'])\n",
    "    encoder_output = np.array(io['encoder_output'])\n",
    "    expected_output = np.array(io['expected_output'])\n",
    "\n",
    "tf.reset_default_graph()\n",
    "decoder_inputs_h = tf.placeholder(tf.float32,shape=(None, decoder_length, hidden_size), name=\"dec_inputs\")\n",
    "encoder_output_h = tf.placeholder(tf.float32,shape=(None, encoder_length, hidden_size), name=\"enc_out\")\n",
    "\n",
    "dec_block = TransformerDecoderBlock(n_heads=n_heads, filter_size=filter_size, hidden_size=hidden_size)\n",
    "output_t = dec_block(decoder_inputs_h, encoder_output_h)\n",
    "saver = tf.train.Saver()\n",
    "\n",
    "with tf.Session() as sess:\n",
    "    saver.restore(sess, \"transformer_checks/transformer_decoder_block\")\n",
    "    output = sess.run(output_t, feed_dict={decoder_inputs_h: decoder_inputs, encoder_output_h: encoder_output})\n",
    "    \n",
    "print(\"Total error on the output:\",np.sum(np.abs(expected_output-output)), \"(should be 0.0 or close to 0.0)\")"
   ]
  },
  {
   "cell_type": "markdown",
   "metadata": {},
   "source": [
    "## (5) Transformer"
   ]
  },
  {
   "cell_type": "markdown",
   "metadata": {},
   "source": [
    "This is the final high-level function that pieces it all together.\n",
    "\n",
    "You have to implement the call function of the Transformer class in the `transformer.py` file.\n",
    "\n",
    "The block below verifies your implementation is correct."
   ]
  },
  {
   "cell_type": "code",
   "execution_count": 8,
   "metadata": {},
   "outputs": [
    {
     "name": "stdout",
     "output_type": "stream",
     "text": [
      "WARNING:tensorflow:From c:\\users\\han-chung lee\\.virtualenvs\\assignment3-xzjguwob\\lib\\site-packages\\tensorflow_core\\python\\keras\\initializers.py:119: calling RandomUniform.__init__ (from tensorflow.python.ops.init_ops) with dtype is deprecated and will be removed in a future version.\n",
      "Instructions for updating:\n",
      "Call initializer instance with the dtype argument instead of passing it to the constructor\n",
      "INFO:tensorflow:Restoring parameters from transformer_checks/transformer\n",
      "Total error on the output: 0.0 (should be 0.0 or close to 0.0)\n"
     ]
    }
   ],
   "source": [
    "from transformer import Transformer\n",
    "\n",
    "batch_size = 2\n",
    "vocab_size = 11\n",
    "n_layers = 3\n",
    "n_heads = 4\n",
    "d_model = 8\n",
    "d_filter = 16\n",
    "input_length = 5\n",
    "output_length = 3\n",
    "\n",
    "with open(root_folder+\"transformer_checks/transformer_io.json\", \"r\") as f:\n",
    "    io = json.load(f)\n",
    "    enc_input = np.array(io['enc_input'])\n",
    "    dec_input = np.array(io['dec_input'])\n",
    "    enc_mask = np.array(io['enc_mask'])\n",
    "    dec_mask = np.array(io['dec_mask'])\n",
    "    expected_output = np.array(io['output'])\n",
    "    \n",
    "tf.reset_default_graph()\n",
    "enc_input_h = tf.placeholder(tf.int32,shape=(None, input_length), name=\"enc_inp\")\n",
    "dec_input_h = tf.placeholder(tf.int32,shape=(None, output_length), name=\"dec_inp\")\n",
    "enc_mask_h = tf.placeholder(tf.bool,shape=(None,input_length),name=\"encoder_mask\")\n",
    "dec_mask_h = tf.placeholder(tf.bool, shape=(None,output_length),name=\"decoder_mask\")\n",
    "\n",
    "transfo = Transformer(vocab_size=vocab_size, n_layers=n_layers, n_heads=n_heads, d_model=d_model, d_filter=d_filter)\n",
    "output_t = transfo(enc_input_h, target_sequence=dec_input_h, encoder_mask=enc_mask_h, decoder_mask=dec_mask_h)\n",
    "\n",
    "saver = tf.train.Saver()\n",
    "\n",
    "with tf.Session() as sess:\n",
    "    saver.restore(sess, \"transformer_checks/transformer\")\n",
    "    output = sess.run(output_t, feed_dict={enc_input_h: enc_input, dec_input_h: dec_input, enc_mask_h: enc_mask, dec_mask_h: dec_mask})\n",
    "\n",
    "print(\"Total error on the output:\",np.sum(np.abs(expected_output-output)), \"(should be 0.0 or close to 0.0)\")"
   ]
  },
  {
   "cell_type": "markdown",
   "metadata": {},
   "source": [
    "# Creating a Transformer"
   ]
  },
  {
   "cell_type": "markdown",
   "metadata": {},
   "source": [
    "Now that all the blocks of the Transformer are implemented, we can create a full model with placeholders and a loss.\n",
    "\n",
    "We've helped you with the placeholders, and the loss, as it is similar to the one in the previous assignment."
   ]
  },
  {
   "cell_type": "code",
   "execution_count": 9,
   "metadata": {},
   "outputs": [],
   "source": [
    "# We are giving you the trainer, as it is similar to the one\n",
    "# you created in the Language Modeling assignment.\n",
    "\n",
    "class TransformerTrainer():\n",
    "\n",
    "    def __init__(self, vocab_size, d_model, input_length, output_length, n_layers, d_filter, learning_rate=1e-3):\n",
    "\n",
    "        self.source_sequence = tf.placeholder(tf.int32,shape=(None,input_length), name=\"source_sequence\")\n",
    "        self.target_sequence = tf.placeholder(tf.int32, shape=(None,output_length),name=\"target_sequence\")\n",
    "        self.encoder_mask = tf.placeholder(tf.bool,shape=(None,input_length),name=\"encoder_mask\")\n",
    "        self.decoder_mask = tf.placeholder(tf.bool, shape=(None,output_length),name=\"decoder_mask\")\n",
    "\n",
    "        self.model = Transformer(vocab_size=vocab_size, d_model=d_model, n_layers=n_layers, d_filter=d_filter)\n",
    "\n",
    "        self.decoded_logits = self.model(self.source_sequence, self.target_sequence, encoder_mask=self.encoder_mask, decoder_mask=self.decoder_mask)\n",
    "        self.global_step = tf.train.get_or_create_global_step()\n",
    "        \n",
    "        # Summarization loss\n",
    "        self.loss = tf.losses.sparse_softmax_cross_entropy(self.target_sequence, self.decoded_logits, tf.cast(self.decoder_mask, tf.float32))\n",
    "        self.optimizer = tf.train.AdamOptimizer(learning_rate=learning_rate)\n",
    "        self.train_op = self.optimizer.minimize(self.loss, global_step=self.global_step)\n",
    "        self.saver = tf.train.Saver()"
   ]
  },
  {
   "cell_type": "markdown",
   "metadata": {},
   "source": [
    "We now instantiate the Transformer with our sets of hyperparameters specific to the task of summarization.\n",
    "In summarization, we are going to go from documents with up to 400 words, to documents with up to 100 words.\n",
    "The vocabulary size is set for you, and is of 10,000 words (we are using WordPieces, [here is a paper about subword encoding](http://aclweb.org/anthology/P18-1007), if you are interested)."
   ]
  },
  {
   "cell_type": "code",
   "execution_count": 10,
   "metadata": {},
   "outputs": [],
   "source": [
    "# Dataset related parameters\n",
    "vocab_size = len(vocab)\n",
    "ilength = 400 # Length of the article\n",
    "olength  = 100 # Length of the summaries\n",
    "\n",
    "# Model related parameters, feel free to modify these.\n",
    "n_layers = 6\n",
    "d_model  = 104\n",
    "d_filter = 416\n",
    "\n",
    "# tuning learning rate\n",
    "lr = 5e-3\n",
    "\n",
    "model = TransformerTrainer(vocab_size, d_model, ilength, olength, n_layers, d_filter, lr)"
   ]
  },
  {
   "cell_type": "markdown",
   "metadata": {},
   "source": [
    "# Training the model"
   ]
  },
  {
   "cell_type": "markdown",
   "metadata": {},
   "source": [
    "Your objective is to train the Language on the dataset you are provided to reach a **validation loss <= 4.50**\n",
    "\n",
    "Careful: we will be testing this loss on an unreleased test set, so make sure to evaluate properly on a validation set and not overfit.\n",
    "\n",
    "You must save the model you want us to test under: models/final_transformer_summarization (the .index, .meta and .data files)\n",
    "\n",
    "**Advice**:\n",
    "- It should be possible to attain validation loss <= 4.50 with the model dimensions we've specified (n_layers=6, d_model=104, d_filter=416), but you can tune these hyperparameters. Increasing d_model will yield better model, at the cost of longer training time.\n",
    "- You should try tuning the learning rate, as well as what optimizer you use.\n",
    "- You might need to train for a few (up to 2 hours) to obtain our expected loss. Remember to tune your hyperparameters first, once you find ones that work well, let it train for longer.\n",
    "\n",
    "**Dataset**: as in the previous notebook, make sure the dataset files are in the `dataset` folder. These can be found on the Google Drive.\n"
   ]
  },
  {
   "cell_type": "code",
   "execution_count": 11,
   "metadata": {},
   "outputs": [
    {
     "data": {
      "text/plain": [
       "(61055, 1558)"
      ]
     },
     "execution_count": 11,
     "metadata": {},
     "output_type": "execute_result"
    }
   ],
   "source": [
    "with open(root_folder+\"dataset/summarization_dataset_preprocessed.json\", \"r\") as f:\n",
    "\n",
    "    dataset = json.load(f)\n",
    "\n",
    "# We load the dataset, and split it into 2 sub-datasets based on if they are training or validation.\n",
    "# Feel free to split this dataset another way, but remember, a validation set is important, to have an idea of \n",
    "# the amount of overfitting that has occurred!\n",
    "\n",
    "d_train = [d for d in dataset if d['cut'] == 'training']\n",
    "d_valid = [d for d in dataset if d['cut'] == 'evaluation']\n",
    "\n",
    "len(d_train), len(d_valid)"
   ]
  },
  {
   "cell_type": "code",
   "execution_count": 12,
   "metadata": {},
   "outputs": [
    {
     "name": "stdout",
     "output_type": "stream",
     "text": [
      "Tbilisi, Georgia (CNN)Police have shot and killed a white tiger that killed a man Wednesday in Tbilisi, Georgia, a Ministry of Internal Affairs representative said, after severe flooding allowed hundreds of wild animals to escape the city zoo. \n",
      "The tiger attack happened at a warehouse in the city center. The animal had been unaccounted for since the weekend floods destroyed the zoo premises.\n",
      "The man killed, who was 43, worked in a company based in the warehouse, the Ministry of Internal Affairs said. Doctors said he was attacked in the throat and died before reaching the hospital. \n",
      "Experts are still searching the warehouse, the ministry said, adding that earlier reports that the tiger had injured a second man were unfounded. \n",
      "The zoo administration said Wednesday that another tiger was still missing. It was unable to confirm if the creature was dead or had escaped alive.\n",
      "Georgian Prime Minister Irakli Garibashvili apologized to the public, saying he had been misinformed by the zoo's management when he'd previously said there were no more dangerous animals on the run.\n",
      "City residents were urged to stay indoors for their own safety in the immediate aftermath of the floods. Volunteers have since been helping city workers with the cleanup operation.\n",
      "At least 19 people died in the flooding, according to Civil Georgia, a news website run by the nongovernmental organization United Nations Association of Georgia. Six more remained missing, it said Tuesday, citing the State Security and Crisis Management Council.\n",
      "Meanwhile, the zoo lost about half of its 600 animals, including lions, tigers, bears and wolves, in the natural disaster. \n",
      "Some animals have since been recaptured, Civil Georgia reported. Others died in the floods or have been killed by police as they scour the streets for escapees.\n",
      "Russian state news outlet RT.com  that an African penguin had made it 60 kilometers (37 miles) downriver from Tbilisi before being caught alive in a dragnet on the border with Azerbaijan. \n",
      "Video from the city showed a large crocodile being restrained by rescuers, as well as a hippopotamus standing in floodwaters, looking confused.\n",
      "The latter was eventually cornered in a city square before being tranquilized and recaptured.\n",
      "One terrified bear escaped the flood by perching on a window ledge.\n",
      "Video footage also showed devastation across swaths of the Georgian capital, where flash floods swept away roads, at least one house and many trees. The corpses of dead animals could be seen amid the wreckage.\n",
      "The problems began before midnight Saturday when heavy rainfall turned the Vere River, usually little more than a stream through the center of Tbilisi, into a raging torrent, according to Civil Georgia.\n",
      "Images on Tbilisi City Hall's Facebook page showed roads washed out, hillsides collapsed and vehicles tossed about like toys. Rescue workers carried people on their shoulders through waist-high water.\n",
      "Garibashvili extended his condolences Tuesday to the families of those killed in the flooding.\n",
      "He also proposed the creation of a park in the zoo premises to honor those lost. \"It will be a park of solidarity, a symbol of our unity, selflessness, and mutual support,\" he said in a statement on his website.\n",
      "President Georgi Margvelashvili earlier said the capital's mayoral office would help those who had lost out financially as a result of the floods.\n",
      "\"The situation is difficult, but it can be handled except for the fact that we cannot bring back those who died,\" he said.\n",
      "According to the World Wildlife Fund, as few as 3,200 tigers exist in the wild today.\n",
      "\n",
      "Journalist Eka Kadagishvili reported from Tbilisi, and Laura Smith-Spark wrote from London. CNN's Kimberly Hutcherson contributed to this report.\n",
      "=======================\n",
      "=======================\n",
      "Police have shot dead a tiger that killed a man in Tbilisi, Georgia, a government official says, after zoo animals escaped in weekend flooding.\n"
     ]
    }
   ],
   "source": [
    "# An example (article, summary) pair in the training data:\n",
    "\n",
    "print(d_train[145]['story'])\n",
    "print(\"=======================\\n=======================\")\n",
    "print(d_train[145]['summary'])"
   ]
  },
  {
   "cell_type": "markdown",
   "metadata": {},
   "source": [
    "Similarly to the previous assignment, we create a function to get a random batch to train on, given a dataset."
   ]
  },
  {
   "cell_type": "code",
   "execution_count": 13,
   "metadata": {},
   "outputs": [],
   "source": [
    "def build_batch(dataset, batch_size):\n",
    "    indices = list(np.random.randint(0, len(dataset), size=batch_size))\n",
    "    \n",
    "    batch = [dataset[i] for i in indices]\n",
    "    batch_input = np.array([a['input'] for a in batch])\n",
    "    batch_input_mask = np.array([a['input_mask'] for a in batch])\n",
    "    batch_output = np.array([a['output'] for a in batch])\n",
    "    batch_output_mask = np.array([a['output_mask'] for a in batch])\n",
    "    \n",
    "    return batch_input, batch_input_mask, batch_output, batch_output_mask"
   ]
  },
  {
   "cell_type": "code",
   "execution_count": 14,
   "metadata": {},
   "outputs": [],
   "source": [
    "def eval(batch_size=200):\n",
    "    # taken from the skeleton eval code block below\n",
    "    e_input, e_input_mask, e_output, e_output_mask = build_batch(d_valid, batch_size)\n",
    "    feed = {model.source_sequence: e_input, model.target_sequence: e_output,\n",
    "                                      model.encoder_mask: e_input_mask, model.decoder_mask: e_output_mask}\n",
    "    valid_loss = sess.run(model.loss, feed_dict=feed)\n",
    "    return valid_loss"
   ]
  },
  {
   "cell_type": "code",
   "execution_count": 15,
   "metadata": {},
   "outputs": [
    {
     "name": "stdout",
     "output_type": "stream",
     "text": [
      "Training loss: 9.878466606140137, Validation loss: 8.99421501159668\n",
      "Training loss: 6.614248275756836, Validation loss: 6.615076065063477\n",
      "Training loss: 5.968087673187256, Validation loss: 5.852936267852783\n",
      "Training loss: 5.798492431640625, Validation loss: 5.645999908447266\n",
      "Training loss: 5.3951287269592285, Validation loss: 5.5228071212768555\n",
      "Training loss: 5.411239147186279, Validation loss: 5.276004791259766\n",
      "Training loss: 5.187501430511475, Validation loss: 5.327815055847168\n",
      "Training loss: 5.07285737991333, Validation loss: 5.223338603973389\n",
      "Training loss: 5.0141096115112305, Validation loss: 5.049109935760498\n",
      "Training loss: 4.894897937774658, Validation loss: 5.093098163604736\n",
      "Training loss: 5.107797622680664, Validation loss: 5.036608695983887\n",
      "Training loss: 5.150390148162842, Validation loss: 4.99444580078125\n",
      "Training loss: 4.744588375091553, Validation loss: 4.929072856903076\n",
      "Training loss: 4.881795406341553, Validation loss: 4.899649620056152\n",
      "Training loss: 4.913812637329102, Validation loss: 4.873154163360596\n",
      "Training loss: 4.828248977661133, Validation loss: 4.898491382598877\n",
      "Training loss: 4.986079692840576, Validation loss: 4.865271091461182\n",
      "Training loss: 4.848516941070557, Validation loss: 4.7901506423950195\n",
      "Training loss: 4.69184684753418, Validation loss: 4.82124137878418\n",
      "Training loss: 4.681981086730957, Validation loss: 4.78245735168457\n",
      "Training loss: 4.525362968444824, Validation loss: 4.7218499183654785\n",
      "Training loss: 4.798557281494141, Validation loss: 4.756509780883789\n",
      "Training loss: 4.388651371002197, Validation loss: 4.750362396240234\n",
      "Training loss: 4.618725776672363, Validation loss: 4.670703887939453\n",
      "Training loss: 4.69481897354126, Validation loss: 4.624200820922852\n",
      "Training loss: 4.518887519836426, Validation loss: 4.719478607177734\n",
      "Training loss: 4.481974124908447, Validation loss: 4.676323890686035\n",
      "Training loss: 4.429511547088623, Validation loss: 4.6731061935424805\n",
      "Training loss: 4.5001139640808105, Validation loss: 4.594977378845215\n",
      "Training loss: 4.470344543457031, Validation loss: 4.6340436935424805\n",
      "Training loss: 4.245300769805908, Validation loss: 4.597053527832031\n",
      "Training loss: 4.424879550933838, Validation loss: 4.630975723266602\n",
      "Training loss: 4.2285542488098145, Validation loss: 4.561843395233154\n",
      "Training loss: 4.490823745727539, Validation loss: 4.674544334411621\n",
      "Training loss: 4.298197269439697, Validation loss: 4.493381977081299\n",
      "Training loss: 4.419287204742432, Validation loss: 4.492504596710205\n",
      "Training loss: 4.3794965744018555, Validation loss: 4.631105422973633\n",
      "Training loss: 4.578338623046875, Validation loss: 4.574200630187988\n",
      "Training loss: 4.377662658691406, Validation loss: 4.578756809234619\n",
      "Training loss: 4.532887935638428, Validation loss: 4.539669990539551\n",
      "Training loss: 4.4379987716674805, Validation loss: 4.623815536499023\n",
      "Training loss: 4.433030605316162, Validation loss: 4.60772705078125\n",
      "Training loss: 4.401089668273926, Validation loss: 4.469585418701172\n",
      "Training loss: 4.172445774078369, Validation loss: 4.525404453277588\n",
      "Training loss: 4.212742805480957, Validation loss: 4.584197521209717\n",
      "Training loss: 4.272089958190918, Validation loss: 4.484364032745361\n",
      "Training loss: 4.358857154846191, Validation loss: 4.530858039855957\n",
      "Training loss: 4.249096870422363, Validation loss: 4.471155643463135\n",
      "Training loss: 4.318765163421631, Validation loss: 4.459311485290527\n",
      "Training loss: 4.345463752746582, Validation loss: 4.460733413696289\n",
      "INFO:tensorflow:Restoring parameters from models/transformer_summarizer\n"
     ]
    }
   ],
   "source": [
    "# Skeleton code, as in the previous notebook.\n",
    "# Write code training code and save your best performing model on the\n",
    "# validation set. We will be testing the loss on a held-out test dataset.\n",
    "# gpu_options = tf.GPUOptions(allow_growth=True)\n",
    "with tf.Session() as sess:#config=tf.ConfigProto(gpu_options=gpu_options)) as sess:\n",
    "    \n",
    "    # This is how you randomly initialize the Transformer weights.\n",
    "    sess.run(tf.global_variables_initializer())\n",
    "    \n",
    "    for i in range(5000):\n",
    "        # batch_size 64 gets OOM on local GPU w/ 6G memory :(\n",
    "        batch_size = 48\n",
    "\n",
    "        # Create a random mini-batch from the training dataset\n",
    "        batch_input, batch_input_mask, batch_output, batch_output_mask = build_batch(d_train, batch_size)\n",
    "        # Build the feed-dict connecting placeholders and mini-batch\n",
    "        feed = {model.source_sequence: batch_input, model.target_sequence: batch_output,\n",
    "                model.encoder_mask: batch_input_mask, model.decoder_mask: batch_output_mask}\n",
    "\n",
    "        # Obtain the loss. Be careful when you use the train_op and not, as previously.\n",
    "        train_loss, _, step = sess.run([model.loss, model.train_op, model.global_step], feed_dict=feed)\n",
    "\n",
    "        if i % 100 == 0:\n",
    "            val_loss=eval()\n",
    "            print(f\"Training loss: {train_loss}, Validation loss: {val_loss}\")\n",
    "\n",
    "    # This is how you save model weights into a file\n",
    "    model.saver.save(sess, root_folder+\"models/transformer_summarizer\")    \n",
    "    \n",
    "    # This is how you restore a model previously saved\n",
    "    model.saver.restore(sess, root_folder+\"models/transformer_summarizer\")\n"
   ]
  },
  {
   "cell_type": "markdown",
   "metadata": {},
   "source": [
    "# Using the Summarization model"
   ]
  },
  {
   "cell_type": "markdown",
   "metadata": {},
   "source": [
    "Now that you have trained a Transformer to perform Summarization, we will use the model on news articles from the wild.\n",
    "\n",
    "The three subsections below explore what the model has learned."
   ]
  },
  {
   "cell_type": "code",
   "execution_count": 16,
   "metadata": {},
   "outputs": [],
   "source": [
    "# Put the file path to your best performing model in the string below.\n",
    "\n",
    "model_file = root_folder+\"models/transformer_unicorn_summarizer\"\n",
    "model_file = root_folder+\"models/transformer_summarizer\""
   ]
  },
  {
   "cell_type": "markdown",
   "metadata": {},
   "source": [
    "## The validation loss"
   ]
  },
  {
   "cell_type": "markdown",
   "metadata": {},
   "source": [
    "Measure the validation loss of your model. This part could be used, as in our previous notebook, in deciding what is a likely, vs. unlikely summary for an article.\n",
    "\n",
    "We will use the code here with the unreleased test-set to evaluate your model."
   ]
  },
  {
   "cell_type": "code",
   "execution_count": 17,
   "metadata": {},
   "outputs": [
    {
     "name": "stdout",
     "output_type": "stream",
     "text": [
      "INFO:tensorflow:Restoring parameters from models/transformer_summarizer\n",
      "Validation loss: 4.535404\n"
     ]
    }
   ],
   "source": [
    "with tf.Session() as sess:\n",
    "    model.saver.restore(sess, model_file)\n",
    "\n",
    "    e_input, e_input_mask, e_output, e_output_mask = build_batch(d_valid, 200)\n",
    "    feed = {model.source_sequence: e_input, model.target_sequence: e_output,\n",
    "                                      model.encoder_mask: e_input_mask, model.decoder_mask: e_output_mask}\n",
    "    valid_loss = sess.run(model.loss, feed_dict=feed)\n",
    "    print(\"Validation loss:\", valid_loss)"
   ]
  },
  {
   "cell_type": "markdown",
   "metadata": {},
   "source": [
    "## Generating an article's summary"
   ]
  },
  {
   "cell_type": "markdown",
   "metadata": {},
   "source": [
    "This model we have built is meant to be used to generate summaries for new articles we do not have summaries for.\n",
    "We got a [news article](https://www.chicagotribune.com/news/local/breaking/ct-met-officer-shot-20190309-story.html) from the Chicago Tribune about a police shooting, and want to use our model to produce a summary.\n",
    "\n",
    "As you will see, our model is still limited in its ability, and will most likely not produce a perfect summary, however, with more data and training, this model would be able to produce good summaries.\n",
    "The article you produce should look like broken English sentences, but should roughly correspond to the article."
   ]
  },
  {
   "cell_type": "code",
   "execution_count": 18,
   "metadata": {},
   "outputs": [
    {
     "name": "stdout",
     "output_type": "stream",
     "text": [
      "INFO:tensorflow:Restoring parameters from models/transformer_summarizer\n",
      "Original Text:\n",
      "⇧ a 34-year-old ↑ chicago police officer has been shot in the shoulder during the execution of a search warrant in the ↑ humboldt ↑ park neighborhood , police say. ↑ the alleged shooter , a 19-year-old woman , was in custody. ↑ the shooting happened about 7:20 p.m. in the 2700 block of ↑ west ↑ potomac ↑ avenue , police said. ↑ the officer , part of the ↑ grand ↑ central ↑ district tactical unit , was taken to ↑ stroger hospital. ↑ while officers were serving a \" typical \" search warrant for \" narcotics and illegal weapons \" and were attempting to reach a rear door , \" a shot was fired ,\" striking the tactical officer in the shoulder , said ↑ chicago police ↑ superintendent ↑ eddie ↑ johnson during a news briefing outside the hospital. ↑ he said the officer , who has about four or five years on the job , was \" stable \" but in critical condition. \" ↑ his family is here ,\" ↑ johnson said. \" he’s talking a lot and just wants the ordeal to be over. \" ↑ he said this incident serves as just another reminder of how dangerous a police officer’s job is. ↑ at the scene of the shooting , crime tape closed ↑ potomac from ↑ washtenaw ↑ avenue to ↑ california ↑ avenue and encompassed the alley west of the brick apartment building , south of potomac. ↑ dozens of officers stood in the alley , while even more walked up and down the street. ↑ neighbors gathered at the edge of the yellow tape on the sidewalk along ↑ california and watched them work. ↑ standing next to a man , a woman talked to police in the crime scene , across the street. \" we're not under arrest ? ↑ we can go ?\" the woman checked with officers. ↑ they told her she could go , and she and the man walked underneath the yellow tape and out of the crime scene .\n",
      "The final summary:\n",
      "<unk>  ↑↑ the  ↑↑ los  ↑↑ angeles county police police officer said  the↑ officer boston  ↑↑  gadoed  a↑pr ohio  ↑↑ police police  ↑↑ department  .↑  the↑ suspect prime was suspect killeded in in the the shooting shooting of .  ↑↑ the  ↑↑  gado  ↑↑  ardar , , the the  \n"
     ]
    }
   ],
   "source": [
    "article_text = \"A 34-year-old Chicago police officer has been shot in the shoulder during the execution of a search warrant in the Humboldt Park neighborhood, police say. The alleged shooter, a 19-year-old woman, was in custody. The shooting happened about 7:20 p.m. in the 2700 block of West Potomac Avenue, police said. The officer, part of the Grand Central District tactical unit, was taken to Stroger Hospital. While officers were serving a \\\"typical\\\" search warrant for \\\"narcotics and illegal weapons\\\" and were attempting to reach a rear door, \\\"a shot was fired,\\\" striking the tactical officer in the shoulder, said Chicago police Superintendent Eddie Johnson during a news briefing outside the hospital. He said the officer, who has about four or five years on the job, was \\\"stable\\\" but in critical condition. \\\"His family is here,\\\" Johnson said. \\\"He’s talking a lot and just wants the ordeal to be over.\\\" He said this incident serves as just another reminder of how dangerous a police officer’s job is. At the scene of the shooting, crime tape closed Potomac from Washtenaw Avenue to California Avenue and encompassed the alley west of the brick apartment building, south of Potomac. Dozens of officers stood in the alley, while even more walked up and down the street. Neighbors gathered at the edge of the yellow tape on the sidewalk along California and watched them work. Standing next to a man, a woman talked to police in the crime scene, across the street. \\\"We're not under arrest? We can go?\\\" the woman checked with officers. They told her she could go, and she and the man walked underneath the yellow tape and out of the crime scene.\"\n",
    "input_length = 400\n",
    "output_length = 100\n",
    "\n",
    "# Process the capitalization with the preprocess_capitalization of the capita package.\n",
    "article_text = capita.preprocess_capitalization(article_text)\n",
    "\n",
    "# Numerize the tokens of the processed text using the loaded sentencepiece model.\n",
    "numerized = sp.EncodeAsIds(article_text)\n",
    "# Pad the sequence and keep the mask of the input\n",
    "padded, mask = pad_sequence(numerized, pad_index, input_length)\n",
    "\n",
    "# Making the news article into a batch of size one, to be fed to the neural network.\n",
    "encoder_input = np.array([padded])\n",
    "encoder_mask = np.array([mask])\n",
    "\n",
    "with tf.Session() as sess:\n",
    "    model.saver.restore(sess, model_file)\n",
    "\n",
    "    decoded_so_far = [0]\n",
    "    \n",
    "    for j in range(output_length):\n",
    "        padded_decoder_input, decoder_mask = pad_sequence(decoded_so_far, pad_index, output_length)\n",
    "        padded_decoder_input = [padded_decoder_input]\n",
    "        decoder_mask = [decoder_mask]\n",
    "        #print(\"========================\")\n",
    "        #print(padded_decoder_input)\n",
    "        # Use the model to find the distrbution over the vocabulary for the next word\n",
    "        feed_pred = {model.source_sequence: encoder_input, \n",
    "                     model.target_sequence: padded_decoder_input,\n",
    "                     model.encoder_mask: encoder_mask, \n",
    "                     model.decoder_mask: decoder_mask}\n",
    "        logits = sess.run(model.decoded_logits, feed_dict=feed_pred)\n",
    "        chosen_words = np.argmax(logits, axis=-1) # Take the argmax, getting the most likely next word\n",
    "        decoded_so_far.append(int(chosen_words[0, j])) # We add it to the summary so far\n",
    "\n",
    "\n",
    "print(\"Original Text:\")\n",
    "print(article_text)\n",
    "        \n",
    "print(\"The final summary:\")\n",
    "print(\"\".join([vocab[i] for i in decoded_so_far]).replace(\"▁\", \" \"))"
   ]
  },
  {
   "cell_type": "markdown",
   "metadata": {},
   "source": [
    "## Word vectors"
   ]
  },
  {
   "cell_type": "markdown",
   "metadata": {},
   "source": [
    "The model we train learns word representations for each word in our vocabulary. A word represention is a vector of **dim** size.\n",
    "\n",
    "It is common in NLP to inspect the word vectors, as some properties of language often appear in the embedding structure.\n",
    "\n",
    "\n",
    "We are going to load the word embeddings learned by our model, and inspect it.\n",
    "Because our network was not trained for long, we are going for the simplest patterns, but if we let the network train longer, it learns more complex, semantic patterns."
   ]
  },
  {
   "cell_type": "code",
   "execution_count": 19,
   "metadata": {},
   "outputs": [
    {
     "name": "stdout",
     "output_type": "stream",
     "text": [
      "INFO:tensorflow:Restoring parameters from models/transformer_summarizer\n",
      "The embedding matrix has shape: (10000, 104)\n",
      "The vocabulary has length: 10000\n"
     ]
    }
   ],
   "source": [
    "# We help you load the matrix, as it is hidden within the Transformer structure.\n",
    "\n",
    "with tf.Session() as sess:\n",
    "    model.saver.restore(sess, model_file)\n",
    "    E = sess.run(model.model.encoder.embedding_layer.embedding.embeddings)\n",
    "\n",
    "print(\"The embedding matrix has shape:\", E.shape)\n",
    "print(\"The vocabulary has length:\", len(vocab))"
   ]
  },
  {
   "cell_type": "markdown",
   "metadata": {},
   "source": [
    "Pronouns serve very similar purposes, therefore we should expect the representation of \"he\" and \"she\" to be similar, and have cosine similarity.\n",
    "\n",
    "- **TODO**:  Find the cosine similarity between the vectors that represent words \"she\" and \"he\".\n",
    "- **TODO**:  Find the cosine similarity between the vectors that represent words \"more\" and \"less\".\n",
    "\n",
    "We can contrast that with the cosine similarity to a random, non-related word, like \"ball\", or \"gorilla\".\n",
    "- **TODO**: Compute the cosine similarity between \"she\" and \"ball\".\n",
    "- **TODO**: Compute the cosine similarity between \"more\" and \"protest\".\n",
    "\n"
   ]
  },
  {
   "cell_type": "code",
   "execution_count": 20,
   "metadata": {},
   "outputs": [
    {
     "name": "stdout",
     "output_type": "stream",
     "text": [
      "she  vs.  he similarity: 2.3590777297399663\n",
      "more  vs.  less similarity: 1.8318664046282587\n",
      "she  vs.  ball similarity: 0.4354395382421466\n",
      "more  vs.  gorilla similarity: -0.06270071933163153\n"
     ]
    }
   ],
   "source": [
    "def cosine_sim(v1, v2):\n",
    "    # TODO: Implement the cosine similarity of 2 vectors. Careful: the words might not have unit norm.\n",
    "    \n",
    "    #return sum([x * y for(x, y) in zip(v1, v2)]) / (np.sqrt(sum(v1 ** 2) + np.sqrt(sum(v2 ** 2))) + 1e-8)#None\n",
    "    return np.dot(v1, v2) / np.sqrt(np.sum(v1**2) + np.sum(v2**2) + 1e-6)\n",
    "\n",
    "for w1, w2 in [(\"she\", \"he\"), (\"more\", \"less\"), (\"she\", \"ball\"), (\"more\", \"gorilla\")]:\n",
    "    w1_index = vocab.index('▁'+w1) # The index of the first  word in our vocabulary\n",
    "    w2_index = vocab.index('▁'+w2) # The index of the second word in our vocabulary\n",
    "    w1_vec = E[w1_index] # Get the embedding vector of the first  word\n",
    "    w2_vec = E[w2_index] # Get the embedding vector of the second word\n",
    "    \n",
    "    print(w1,\" vs. \", w2, \"similarity:\",cosine_sim(w1_vec, w2_vec))\n",
    "    "
   ]
  },
  {
   "cell_type": "markdown",
   "metadata": {},
   "source": [
    "These effects are unfortunately small, as we have only trained the network on a few hours on a few thousand articles.\n",
    "However, the same model trained for longer on more data exhibits many interesting semantic and syntactic patterns, such as:\n",
    "\n",
    "- Words vectors with high cosine similarity usually represent words that have semantic similarity (such as duck and pigeon)\n",
    "- Analogies can occur, a famous case is that of: woman - man + king ≈ queen. Or france - paris + rome ≈ italy.\n",
    "\n",
    "- Looking at top-k similar words can help find synonyms.\n",
    "\n",
    "To read examples of more complex patterns that appear in word embedding spaces, read [this blog](https://explosion.ai/blog/sense2vec-with-spacy). To play with a live demo and try similarities on rich word embeddings, [go here.](https://explosion.ai/demos/sense2vec)"
   ]
  }
 ],
 "metadata": {
  "anaconda-cloud": {},
  "kernelspec": {
   "display_name": "Python 3",
   "language": "python",
   "name": "python3"
  },
  "language_info": {
   "codemirror_mode": {
    "name": "ipython",
    "version": 3
   },
   "file_extension": ".py",
   "mimetype": "text/x-python",
   "name": "python",
   "nbconvert_exporter": "python",
   "pygments_lexer": "ipython3",
   "version": "3.7.3"
  }
 },
 "nbformat": 4,
 "nbformat_minor": 4
}
